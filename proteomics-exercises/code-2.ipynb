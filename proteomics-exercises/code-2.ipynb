{
 "cells": [
  {
   "cell_type": "markdown",
   "metadata": {},
   "source": [
    "# 2. Visualization of the protein length distribution"
   ]
  },
  {
   "cell_type": "code",
   "execution_count": 2,
   "metadata": {},
   "outputs": [
    {
     "data": {
      "text/html": [
       "<div>\n",
       "<style scoped>\n",
       "    .dataframe tbody tr th:only-of-type {\n",
       "        vertical-align: middle;\n",
       "    }\n",
       "\n",
       "    .dataframe tbody tr th {\n",
       "        vertical-align: top;\n",
       "    }\n",
       "\n",
       "    .dataframe thead th {\n",
       "        text-align: right;\n",
       "    }\n",
       "</style>\n",
       "<table border=\"1\" class=\"dataframe\">\n",
       "  <thead>\n",
       "    <tr style=\"text-align: right;\">\n",
       "      <th></th>\n",
       "      <th>Header</th>\n",
       "      <th>Sequence</th>\n",
       "      <th>Organism</th>\n",
       "      <th>Protein_Length</th>\n",
       "    </tr>\n",
       "  </thead>\n",
       "  <tbody>\n",
       "    <tr>\n",
       "      <th>0</th>\n",
       "      <td>NP_001018029.1 Coq21p [Saccharomyces cerevisia...</td>\n",
       "      <td>MRNELYQLWCVASAARGVAKSSFVRANSAMCEYVRTSNVLSRWTRD...</td>\n",
       "      <td>Saccharomyces cerevisiae S288C</td>\n",
       "      <td>66</td>\n",
       "    </tr>\n",
       "    <tr>\n",
       "      <th>1</th>\n",
       "      <td>NP_001018030.1 L-serine/L-threonine ammonia-ly...</td>\n",
       "      <td>MSIVYNKTPLLRQFFPGKASAQFFLKYECLQPSGSFKSRGIGNLIM...</td>\n",
       "      <td>Saccharomyces cerevisiae S288C</td>\n",
       "      <td>360</td>\n",
       "    </tr>\n",
       "    <tr>\n",
       "      <th>2</th>\n",
       "      <td>NP_001018031.2 Adf1p [Saccharomyces cerevisiae...</td>\n",
       "      <td>MGKCSMKKKGVGKNVGVGKKVQKKRSISTAERKRTKLQVEKLNKSS...</td>\n",
       "      <td>Saccharomyces cerevisiae S288C</td>\n",
       "      <td>113</td>\n",
       "    </tr>\n",
       "    <tr>\n",
       "      <th>3</th>\n",
       "      <td>NP_001018032.1 uncharacterized protein YCR095W...</td>\n",
       "      <td>MTVLIKLGLRILHVYKGFFRKVILKYFFFSSEHTKVNKKSSMHAFL...</td>\n",
       "      <td>Saccharomyces cerevisiae S288C</td>\n",
       "      <td>52</td>\n",
       "    </tr>\n",
       "    <tr>\n",
       "      <th>4</th>\n",
       "      <td>NP_001018033.3 uncharacterized protein YGR161W...</td>\n",
       "      <td>MSGYFNHLSSNAHFANIQADQGFIGDATGTSSDHGSSGMVDFALQL...</td>\n",
       "      <td>Saccharomyces cerevisiae S288C</td>\n",
       "      <td>92</td>\n",
       "    </tr>\n",
       "  </tbody>\n",
       "</table>\n",
       "</div>"
      ],
      "text/plain": [
       "                                              Header  \\\n",
       "0  NP_001018029.1 Coq21p [Saccharomyces cerevisia...   \n",
       "1  NP_001018030.1 L-serine/L-threonine ammonia-ly...   \n",
       "2  NP_001018031.2 Adf1p [Saccharomyces cerevisiae...   \n",
       "3  NP_001018032.1 uncharacterized protein YCR095W...   \n",
       "4  NP_001018033.3 uncharacterized protein YGR161W...   \n",
       "\n",
       "                                            Sequence  \\\n",
       "0  MRNELYQLWCVASAARGVAKSSFVRANSAMCEYVRTSNVLSRWTRD...   \n",
       "1  MSIVYNKTPLLRQFFPGKASAQFFLKYECLQPSGSFKSRGIGNLIM...   \n",
       "2  MGKCSMKKKGVGKNVGVGKKVQKKRSISTAERKRTKLQVEKLNKSS...   \n",
       "3  MTVLIKLGLRILHVYKGFFRKVILKYFFFSSEHTKVNKKSSMHAFL...   \n",
       "4  MSGYFNHLSSNAHFANIQADQGFIGDATGTSSDHGSSGMVDFALQL...   \n",
       "\n",
       "                         Organism  Protein_Length  \n",
       "0  Saccharomyces cerevisiae S288C              66  \n",
       "1  Saccharomyces cerevisiae S288C             360  \n",
       "2  Saccharomyces cerevisiae S288C             113  \n",
       "3  Saccharomyces cerevisiae S288C              52  \n",
       "4  Saccharomyces cerevisiae S288C              92  "
      ]
     },
     "execution_count": 2,
     "metadata": {},
     "output_type": "execute_result"
    }
   ],
   "source": [
    "import pandas as pd\n",
    "\n",
    "# Load the CSV file\n",
    "file_path = \"combined_fasta_data.csv\"\n",
    "df = pd.read_csv(file_path)\n",
    "\n",
    "# Calculate protein length and add it to a new column in the data frame\n",
    "df['Protein_Length'] = df['Sequence'].apply(len)\n",
    "\n",
    "# testing\n",
    "df.head()"
   ]
  }
 ],
 "metadata": {
  "kernelspec": {
   "display_name": "base",
   "language": "python",
   "name": "python3"
  },
  "language_info": {
   "codemirror_mode": {
    "name": "ipython",
    "version": 3
   },
   "file_extension": ".py",
   "mimetype": "text/x-python",
   "name": "python",
   "nbconvert_exporter": "python",
   "pygments_lexer": "ipython3",
   "version": "3.12.4"
  }
 },
 "nbformat": 4,
 "nbformat_minor": 2
}
